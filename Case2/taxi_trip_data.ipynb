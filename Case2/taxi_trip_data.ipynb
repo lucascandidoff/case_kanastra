{
 "cells": [
  {
   "cell_type": "markdown",
   "metadata": {
    "application/vnd.databricks.v1+cell": {
     "cellMetadata": {},
     "inputWidgets": {},
     "nuid": "9c077b20-16af-439b-ae6c-d09dd84c06f9",
     "showTitle": false,
     "title": ""
    }
   },
   "source": [
    "###Análise de dados para viagens de taxi realizadas em Nova York"
   ]
  },
  {
   "cell_type": "markdown",
   "metadata": {
    "application/vnd.databricks.v1+cell": {
     "cellMetadata": {},
     "inputWidgets": {},
     "nuid": "e9761cac-2612-418b-821b-e88f8b49e53b",
     "showTitle": false,
     "title": ""
    }
   },
   "source": [
    "####Imports"
   ]
  },
  {
   "cell_type": "code",
   "execution_count": 0,
   "metadata": {
    "application/vnd.databricks.v1+cell": {
     "cellMetadata": {
      "byteLimit": 2048000,
      "rowLimit": 10000
     },
     "inputWidgets": {},
     "nuid": "a8355dbd-53b0-49a8-b3d4-7a2b72f04014",
     "showTitle": false,
     "title": ""
    }
   },
   "outputs": [],
   "source": [
    "import pyspark.sql.functions as F\n",
    "from pyspark.sql import Window"
   ]
  },
  {
   "cell_type": "code",
   "execution_count": 0,
   "metadata": {
    "application/vnd.databricks.v1+cell": {
     "cellMetadata": {
      "byteLimit": 2048000,
      "rowLimit": 10000
     },
     "inputWidgets": {},
     "nuid": "89331b13-0705-4b62-b4a2-a4ca9d7a86bd",
     "showTitle": false,
     "title": ""
    }
   },
   "outputs": [
    {
     "output_type": "display_data",
     "data": {
      "text/html": [
       "<style scoped>\n",
       "  .table-result-container {\n",
       "    max-height: 300px;\n",
       "    overflow: auto;\n",
       "  }\n",
       "  table, th, td {\n",
       "    border: 1px solid black;\n",
       "    border-collapse: collapse;\n",
       "  }\n",
       "  th, td {\n",
       "    padding: 5px;\n",
       "  }\n",
       "  th {\n",
       "    text-align: left;\n",
       "  }\n",
       "</style><div class='table-result-container'><table class='table-result'><thead style='background-color: white'><tr><th>path</th><th>name</th><th>size</th><th>modificationTime</th></tr></thead><tbody><tr><td>dbfs:/FileStore/tables/kanastra/data_nyctaxi_trips_2009.json</td><td>data_nyctaxi_trips_2009.json</td><td>433448373</td><td>1728767938000</td></tr><tr><td>dbfs:/FileStore/tables/kanastra/data_nyctaxi_trips_2010.json</td><td>data_nyctaxi_trips_2010.json</td><td>433448950</td><td>1728767938000</td></tr><tr><td>dbfs:/FileStore/tables/kanastra/data_nyctaxi_trips_2011.json</td><td>data_nyctaxi_trips_2011.json</td><td>433447956</td><td>1728767518000</td></tr><tr><td>dbfs:/FileStore/tables/kanastra/data_nyctaxi_trips_2012.json</td><td>data_nyctaxi_trips_2012.json</td><td>433448657</td><td>1728767326000</td></tr><tr><td>dbfs:/FileStore/tables/kanastra/data_payment_lookup.csv</td><td>data_payment_lookup.csv</td><td>31865</td><td>1728767036000</td></tr><tr><td>dbfs:/FileStore/tables/kanastra/data_vendor_lookup.csv</td><td>data_vendor_lookup.csv</td><td>517</td><td>1728767052000</td></tr><tr><td>dbfs:/FileStore/tables/kanastra/df_vendor_trips_in_top_week.csv/</td><td>df_vendor_trips_in_top_week.csv/</td><td>0</td><td>0</td></tr></tbody></table></div>"
      ]
     },
     "metadata": {
      "application/vnd.databricks.v1+output": {
       "addedWidgets": {},
       "aggData": [],
       "aggError": "",
       "aggOverflow": false,
       "aggSchema": [],
       "aggSeriesLimitReached": false,
       "aggType": "",
       "arguments": {},
       "columnCustomDisplayInfos": {},
       "data": [
        [
         "dbfs:/FileStore/tables/kanastra/data_nyctaxi_trips_2009.json",
         "data_nyctaxi_trips_2009.json",
         433448373,
         1728767938000
        ],
        [
         "dbfs:/FileStore/tables/kanastra/data_nyctaxi_trips_2010.json",
         "data_nyctaxi_trips_2010.json",
         433448950,
         1728767938000
        ],
        [
         "dbfs:/FileStore/tables/kanastra/data_nyctaxi_trips_2011.json",
         "data_nyctaxi_trips_2011.json",
         433447956,
         1728767518000
        ],
        [
         "dbfs:/FileStore/tables/kanastra/data_nyctaxi_trips_2012.json",
         "data_nyctaxi_trips_2012.json",
         433448657,
         1728767326000
        ],
        [
         "dbfs:/FileStore/tables/kanastra/data_payment_lookup.csv",
         "data_payment_lookup.csv",
         31865,
         1728767036000
        ],
        [
         "dbfs:/FileStore/tables/kanastra/data_vendor_lookup.csv",
         "data_vendor_lookup.csv",
         517,
         1728767052000
        ],
        [
         "dbfs:/FileStore/tables/kanastra/df_vendor_trips_in_top_week.csv/",
         "df_vendor_trips_in_top_week.csv/",
         0,
         0
        ]
       ],
       "datasetInfos": [],
       "dbfsResultPath": null,
       "isJsonSchema": true,
       "metadata": {},
       "overflow": false,
       "plotOptions": {
        "customPlotOptions": {},
        "displayType": "table",
        "pivotAggregation": null,
        "pivotColumns": null,
        "xColumns": null,
        "yColumns": null
       },
       "removedWidgets": [],
       "schema": [
        {
         "metadata": "{}",
         "name": "path",
         "type": "\"string\""
        },
        {
         "metadata": "{}",
         "name": "name",
         "type": "\"string\""
        },
        {
         "metadata": "{}",
         "name": "size",
         "type": "\"long\""
        },
        {
         "metadata": "{}",
         "name": "modificationTime",
         "type": "\"long\""
        }
       ],
       "type": "table"
      }
     },
     "output_type": "display_data"
    }
   ],
   "source": [
    "# display(dbutils.fs.ls(\"/FileStore/tables/kanastra\"))"
   ]
  },
  {
   "cell_type": "markdown",
   "metadata": {
    "application/vnd.databricks.v1+cell": {
     "cellMetadata": {},
     "inputWidgets": {},
     "nuid": "6c698f19-27b8-4851-b82a-d88def0af796",
     "showTitle": false,
     "title": ""
    }
   },
   "source": [
    "####Variáveis"
   ]
  },
  {
   "cell_type": "code",
   "execution_count": 0,
   "metadata": {
    "application/vnd.databricks.v1+cell": {
     "cellMetadata": {
      "byteLimit": 2048000,
      "rowLimit": 10000
     },
     "inputWidgets": {},
     "nuid": "83519971-9226-4789-878d-52840f560615",
     "showTitle": false,
     "title": ""
    }
   },
   "outputs": [],
   "source": [
    "PATH_BLOB = \"dbfs:/FileStore/tables/kanastra/\"\n",
    "RELATIVE_PATH = \"/FileStore/tables/kanastra/\""
   ]
  },
  {
   "cell_type": "markdown",
   "metadata": {
    "application/vnd.databricks.v1+cell": {
     "cellMetadata": {},
     "inputWidgets": {},
     "nuid": "778f7414-3351-49b6-adc2-9097a99a6021",
     "showTitle": false,
     "title": ""
    }
   },
   "source": [
    "####Leitura das fontes"
   ]
  },
  {
   "cell_type": "code",
   "execution_count": 0,
   "metadata": {
    "application/vnd.databricks.v1+cell": {
     "cellMetadata": {
      "byteLimit": 2048000,
      "rowLimit": 10000
     },
     "inputWidgets": {},
     "nuid": "996179a4-382b-48f6-bedc-9c30bd4b2941",
     "showTitle": false,
     "title": ""
    }
   },
   "outputs": [],
   "source": [
    "df_data_payment_lookup = spark.read.csv(f\"{RELATIVE_PATH}data_payment_lookup.csv\", header=True)\n",
    "\n",
    "df_data_vendor_lookup = spark.read.csv(f\"{RELATIVE_PATH}data_vendor_lookup.csv\", header=True)\n",
    "\n",
    "df_data_vendor_lookup = df_data_vendor_lookup.select('vendor_id','name')\\\n",
    "                                             .withColumnRenamed('name','vendor_name')"
   ]
  },
  {
   "cell_type": "code",
   "execution_count": 0,
   "metadata": {
    "application/vnd.databricks.v1+cell": {
     "cellMetadata": {
      "byteLimit": 2048000,
      "rowLimit": 10000
     },
     "inputWidgets": {},
     "nuid": "99622d19-d363-48fd-975f-91aeb712e4c3",
     "showTitle": false,
     "title": ""
    }
   },
   "outputs": [],
   "source": [
    "df_data_nyctaxi_trips_2009 = spark.read.json(f\"{RELATIVE_PATH}data_nyctaxi_trips_2009.json\")\n",
    "df_data_nyctaxi_trips_2010 = spark.read.json(f\"{RELATIVE_PATH}data_nyctaxi_trips_2010.json\")\n",
    "df_data_nyctaxi_trips_2011 = spark.read.json(f\"{RELATIVE_PATH}data_nyctaxi_trips_2011.json\")\n",
    "df_data_nyctaxi_trips_2012 = spark.read.json(f\"{RELATIVE_PATH}data_nyctaxi_trips_2012.json\")\n",
    "\n",
    "df_data_nyctaxi_trips = df_data_nyctaxi_trips_2009.union(df_data_nyctaxi_trips_2010)\\\n",
    "                                                  .union(df_data_nyctaxi_trips_2011)\\\n",
    "                                                  .union(df_data_nyctaxi_trips_2012)"
   ]
  },
  {
   "cell_type": "markdown",
   "metadata": {
    "application/vnd.databricks.v1+cell": {
     "cellMetadata": {},
     "inputWidgets": {},
     "nuid": "1fddf365-d064-4777-a292-1dd1fe48a25b",
     "showTitle": false,
     "title": ""
    }
   },
   "source": [
    "#### Join de df_data_nyctaxi_trips com df_data_vendor_lookup"
   ]
  },
  {
   "cell_type": "code",
   "execution_count": 0,
   "metadata": {
    "application/vnd.databricks.v1+cell": {
     "cellMetadata": {
      "byteLimit": 2048000,
      "rowLimit": 10000
     },
     "inputWidgets": {},
     "nuid": "6ca1e882-a26d-4fd2-9991-b1db1c297a23",
     "showTitle": false,
     "title": ""
    }
   },
   "outputs": [],
   "source": [
    "df_trips_vendor = df_data_nyctaxi_trips.join(df_data_vendor_lookup, \"vendor_id\", \"left\")"
   ]
  },
  {
   "cell_type": "markdown",
   "metadata": {
    "application/vnd.databricks.v1+cell": {
     "cellMetadata": {},
     "inputWidgets": {},
     "nuid": "6fb7f51a-f30e-4950-839c-450e0f10d71b",
     "showTitle": false,
     "title": ""
    }
   },
   "source": [
    "#### Qual Vendor mais viajou de taxi"
   ]
  },
  {
   "cell_type": "code",
   "execution_count": 0,
   "metadata": {
    "application/vnd.databricks.v1+cell": {
     "cellMetadata": {
      "byteLimit": 2048000,
      "rowLimit": 10000
     },
     "inputWidgets": {},
     "nuid": "54642585-d76e-422b-8e83-f144006fca74",
     "showTitle": false,
     "title": ""
    }
   },
   "outputs": [],
   "source": [
    "df_result_travel_vendor =  df_trips_vendor.withColumn(\"year\", F.year(\"pickup_datetime\"))\\\n",
    "                                          .groupBy('vendor_id','vendor_name','year')\\\n",
    "                                          .agg(\n",
    "                                              F.round(F.sum('trip_distance'), 1).alias('tot_trip_distance'),  # Soma da distância\n",
    "                                              F.count('*').alias('tot_trips')  # Contagem total de registros (viagens) por ano\n",
    "                                          )\\\n",
    "                                          .orderBy('vendor_name','year','tot_trip_distance', ascending=[True, True, False])\n",
    "\n",
    "# Definindo uma janela para calcular o \"ranking\" dos vendors com base nos critérios\n",
    "windowSpec = Window.partitionBy(\"year\").orderBy(F.desc(\"tot_trips\"), F.desc(\"tot_trip_distance\"), F.asc(\"vendor_name\"))\n",
    "\n",
    "# Aplicando a janela e classificando os vendors por ano e filtrando apenas o vendor com o maior número de viagens em cada ano\n",
    "df_top_vendors = df_result_travel_vendor.withColumn(\"rank\", F.row_number().over(windowSpec))\\\n",
    "                                        .filter(F.col(\"rank\") == 1).drop(\"rank\") "
   ]
  },
  {
   "cell_type": "code",
   "execution_count": 0,
   "metadata": {
    "application/vnd.databricks.v1+cell": {
     "cellMetadata": {
      "byteLimit": 2048000,
      "rowLimit": 10000
     },
     "inputWidgets": {},
     "nuid": "d2cee740-a39d-430c-868e-e25617379459",
     "showTitle": false,
     "title": ""
    }
   },
   "outputs": [
    {
     "output_type": "display_data",
     "data": {
      "text/html": [
       "<style scoped>\n",
       "  .table-result-container {\n",
       "    max-height: 300px;\n",
       "    overflow: auto;\n",
       "  }\n",
       "  table, th, td {\n",
       "    border: 1px solid black;\n",
       "    border-collapse: collapse;\n",
       "  }\n",
       "  th, td {\n",
       "    padding: 5px;\n",
       "  }\n",
       "  th {\n",
       "    text-align: left;\n",
       "  }\n",
       "</style><div class='table-result-container'><table class='table-result'><thead style='background-color: white'><tr><th>vendor_id</th><th>vendor_name</th><th>year</th><th>tot_trip_distance</th><th>tot_trips</th></tr></thead><tbody><tr><td>CMT</td><td>Creative Mobile Technologies, LLC</td><td>2009</td><td>1263787.5</td><td>479032</td></tr><tr><td>CMT</td><td>Creative Mobile Technologies, LLC</td><td>2010</td><td>1263787.5</td><td>479032</td></tr><tr><td>CMT</td><td>Creative Mobile Technologies, LLC</td><td>2011</td><td>1263787.5</td><td>479032</td></tr><tr><td>CMT</td><td>Creative Mobile Technologies, LLC</td><td>2012</td><td>1263787.5</td><td>479032</td></tr></tbody></table></div>"
      ]
     },
     "metadata": {
      "application/vnd.databricks.v1+output": {
       "addedWidgets": {},
       "aggData": [],
       "aggError": "",
       "aggOverflow": false,
       "aggSchema": [],
       "aggSeriesLimitReached": false,
       "aggType": "",
       "arguments": {},
       "columnCustomDisplayInfos": {},
       "data": [
        [
         "CMT",
         "Creative Mobile Technologies, LLC",
         2009,
         1263787.5,
         479032
        ],
        [
         "CMT",
         "Creative Mobile Technologies, LLC",
         2010,
         1263787.5,
         479032
        ],
        [
         "CMT",
         "Creative Mobile Technologies, LLC",
         2011,
         1263787.5,
         479032
        ],
        [
         "CMT",
         "Creative Mobile Technologies, LLC",
         2012,
         1263787.5,
         479032
        ]
       ],
       "datasetInfos": [],
       "dbfsResultPath": null,
       "isJsonSchema": true,
       "metadata": {},
       "overflow": false,
       "plotOptions": {
        "customPlotOptions": {},
        "displayType": "table",
        "pivotAggregation": null,
        "pivotColumns": null,
        "xColumns": null,
        "yColumns": null
       },
       "removedWidgets": [],
       "schema": [
        {
         "metadata": "{}",
         "name": "vendor_id",
         "type": "\"string\""
        },
        {
         "metadata": "{}",
         "name": "vendor_name",
         "type": "\"string\""
        },
        {
         "metadata": "{}",
         "name": "year",
         "type": "\"integer\""
        },
        {
         "metadata": "{}",
         "name": "tot_trip_distance",
         "type": "\"double\""
        },
        {
         "metadata": "{}",
         "name": "tot_trips",
         "type": "\"long\""
        }
       ],
       "type": "table"
      }
     },
     "output_type": "display_data"
    }
   ],
   "source": [
    "display(df_top_vendors)"
   ]
  },
  {
   "cell_type": "markdown",
   "metadata": {
    "application/vnd.databricks.v1+cell": {
     "cellMetadata": {},
     "inputWidgets": {},
     "nuid": "8823327b-adb7-4bd5-8d1b-beda96262cde",
     "showTitle": false,
     "title": ""
    }
   },
   "source": [
    "####Semana de cada ano que mais teve viagens de táxi."
   ]
  },
  {
   "cell_type": "code",
   "execution_count": 0,
   "metadata": {
    "application/vnd.databricks.v1+cell": {
     "cellMetadata": {
      "byteLimit": 2048000,
      "rowLimit": 10000
     },
     "inputWidgets": {},
     "nuid": "c66285c3-dc3b-4cd3-9245-193fcc5e75a5",
     "showTitle": false,
     "title": ""
    }
   },
   "outputs": [],
   "source": [
    "# Agrupando por year e week para calcular o total de viagens por semana\n",
    "df_trips_by_week = df_trips_vendor.withColumn(\"year\", F.year(\"pickup_datetime\"))\\\n",
    "                                  .withColumn(\"week\", F.weekofyear(\"pickup_datetime\"))\n",
    "\n",
    "df_weekly_trips = df_trips_by_week.groupBy(\"year\", \"week\")\\\n",
    "                                  .agg(F.count('*').alias(\"tot_trips\"))\\\n",
    "                                  .orderBy(\"year\", \"week\")\n",
    "\n",
    "# Definindo uma janela para classificar as semanas por número de viagens em cada ano\n",
    "windowSpec = Window.partitionBy(\"year\").orderBy(F.desc(\"tot_trips\"))\n",
    "\n",
    "# Aplicando a janela, calculando o rank e filtrando para pegar apenas a semana com o maior número de viagens em cada ano\n",
    "df_top_week = df_weekly_trips.withColumn(\"rank\", F.row_number().over(windowSpec))\\\n",
    "                             .filter(F.col(\"rank\") == 1).drop(\"rank\")\n"
   ]
  },
  {
   "cell_type": "code",
   "execution_count": 0,
   "metadata": {
    "application/vnd.databricks.v1+cell": {
     "cellMetadata": {
      "byteLimit": 2048000,
      "rowLimit": 10000
     },
     "inputWidgets": {},
     "nuid": "cdea7500-c122-471f-b4f0-bbb0ac85ce64",
     "showTitle": false,
     "title": ""
    }
   },
   "outputs": [
    {
     "output_type": "display_data",
     "data": {
      "text/html": [
       "<style scoped>\n",
       "  .table-result-container {\n",
       "    max-height: 300px;\n",
       "    overflow: auto;\n",
       "  }\n",
       "  table, th, td {\n",
       "    border: 1px solid black;\n",
       "    border-collapse: collapse;\n",
       "  }\n",
       "  th, td {\n",
       "    padding: 5px;\n",
       "  }\n",
       "  th {\n",
       "    text-align: left;\n",
       "  }\n",
       "</style><div class='table-result-container'><table class='table-result'><thead style='background-color: white'><tr><th>year</th><th>week</th><th>tot_trips</th></tr></thead><tbody><tr><td>2009</td><td>11</td><td>20921</td></tr><tr><td>2010</td><td>43</td><td>20728</td></tr><tr><td>2011</td><td>16</td><td>22143</td></tr><tr><td>2012</td><td>29</td><td>23614</td></tr></tbody></table></div>"
      ]
     },
     "metadata": {
      "application/vnd.databricks.v1+output": {
       "addedWidgets": {},
       "aggData": [],
       "aggError": "",
       "aggOverflow": false,
       "aggSchema": [],
       "aggSeriesLimitReached": false,
       "aggType": "",
       "arguments": {},
       "columnCustomDisplayInfos": {},
       "data": [
        [
         2009,
         11,
         20921
        ],
        [
         2010,
         43,
         20728
        ],
        [
         2011,
         16,
         22143
        ],
        [
         2012,
         29,
         23614
        ]
       ],
       "datasetInfos": [],
       "dbfsResultPath": null,
       "isJsonSchema": true,
       "metadata": {},
       "overflow": false,
       "plotOptions": {
        "customPlotOptions": {},
        "displayType": "table",
        "pivotAggregation": null,
        "pivotColumns": null,
        "xColumns": null,
        "yColumns": null
       },
       "removedWidgets": [],
       "schema": [
        {
         "metadata": "{}",
         "name": "year",
         "type": "\"integer\""
        },
        {
         "metadata": "{}",
         "name": "week",
         "type": "\"integer\""
        },
        {
         "metadata": "{}",
         "name": "tot_trips",
         "type": "\"long\""
        }
       ],
       "type": "table"
      }
     },
     "output_type": "display_data"
    }
   ],
   "source": [
    "display(df_top_week)"
   ]
  },
  {
   "cell_type": "markdown",
   "metadata": {
    "application/vnd.databricks.v1+cell": {
     "cellMetadata": {},
     "inputWidgets": {},
     "nuid": "2b3943b1-9d2c-4858-9060-4864fea0ad19",
     "showTitle": false,
     "title": ""
    }
   },
   "source": [
    "####Quantas viagens o vendor com mais viagens naquele ano fez na semana com mais viagens de táxi no ano."
   ]
  },
  {
   "cell_type": "code",
   "execution_count": 0,
   "metadata": {
    "application/vnd.databricks.v1+cell": {
     "cellMetadata": {
      "byteLimit": 2048000,
      "rowLimit": 10000
     },
     "inputWidgets": {},
     "nuid": "c91353fb-95c3-4b0a-88c9-eb7e4dedbf44",
     "showTitle": false,
     "title": ""
    }
   },
   "outputs": [],
   "source": [
    "# Join do DataFrame com o vendor que mais viajou no ano com o DataFrame da semana com mais viagens no ano\n",
    "df_vendor_week = df_trips_by_week.join(df_top_week, [\"year\", \"week\"], \"inner\")\n",
    "\n",
    "# Fltrando o DataFrame para considerar apenas o vendor com mais viagens no ano\n",
    "df_vendor_week_filtered = df_vendor_week.join(df_top_vendors.select(\"vendor_id\", \"year\"), [\"vendor_id\", \"year\"], \"inner\")\n",
    "\n",
    "# Contando o número de viagens desse vendor na semana com mais viagens\n",
    "df_vendor_trips_in_top_week = df_vendor_week_filtered.groupBy(\"vendor_id\", \"vendor_name\", \"year\", \"week\")\\\n",
    "                                                     .agg(F.count(\"*\").alias(\"vendor_tot_trips_in_week\"))"
   ]
  },
  {
   "cell_type": "code",
   "execution_count": 0,
   "metadata": {
    "application/vnd.databricks.v1+cell": {
     "cellMetadata": {
      "byteLimit": 2048000,
      "rowLimit": 10000
     },
     "inputWidgets": {},
     "nuid": "9b152c6c-bb3d-41c4-a039-6ca76e1c3025",
     "showTitle": false,
     "title": ""
    }
   },
   "outputs": [
    {
     "output_type": "display_data",
     "data": {
      "text/html": [
       "<style scoped>\n",
       "  .table-result-container {\n",
       "    max-height: 300px;\n",
       "    overflow: auto;\n",
       "  }\n",
       "  table, th, td {\n",
       "    border: 1px solid black;\n",
       "    border-collapse: collapse;\n",
       "  }\n",
       "  th, td {\n",
       "    padding: 5px;\n",
       "  }\n",
       "  th {\n",
       "    text-align: left;\n",
       "  }\n",
       "</style><div class='table-result-container'><table class='table-result'><thead style='background-color: white'><tr><th>vendor_id</th><th>vendor_name</th><th>year</th><th>week</th><th>vendor_tot_trips_in_week</th></tr></thead><tbody><tr><td>CMT</td><td>Creative Mobile Technologies, LLC</td><td>2009</td><td>11</td><td>10097</td></tr><tr><td>CMT</td><td>Creative Mobile Technologies, LLC</td><td>2010</td><td>43</td><td>9969</td></tr><tr><td>CMT</td><td>Creative Mobile Technologies, LLC</td><td>2011</td><td>16</td><td>10636</td></tr><tr><td>CMT</td><td>Creative Mobile Technologies, LLC</td><td>2012</td><td>29</td><td>11382</td></tr></tbody></table></div>"
      ]
     },
     "metadata": {
      "application/vnd.databricks.v1+output": {
       "addedWidgets": {},
       "aggData": [],
       "aggError": "",
       "aggOverflow": false,
       "aggSchema": [],
       "aggSeriesLimitReached": false,
       "aggType": "",
       "arguments": {},
       "columnCustomDisplayInfos": {},
       "data": [
        [
         "CMT",
         "Creative Mobile Technologies, LLC",
         2009,
         11,
         10097
        ],
        [
         "CMT",
         "Creative Mobile Technologies, LLC",
         2010,
         43,
         9969
        ],
        [
         "CMT",
         "Creative Mobile Technologies, LLC",
         2011,
         16,
         10636
        ],
        [
         "CMT",
         "Creative Mobile Technologies, LLC",
         2012,
         29,
         11382
        ]
       ],
       "datasetInfos": [],
       "dbfsResultPath": null,
       "isJsonSchema": true,
       "metadata": {},
       "overflow": false,
       "plotOptions": {
        "customPlotOptions": {},
        "displayType": "table",
        "pivotAggregation": null,
        "pivotColumns": null,
        "xColumns": null,
        "yColumns": null
       },
       "removedWidgets": [],
       "schema": [
        {
         "metadata": "{}",
         "name": "vendor_id",
         "type": "\"string\""
        },
        {
         "metadata": "{}",
         "name": "vendor_name",
         "type": "\"string\""
        },
        {
         "metadata": "{}",
         "name": "year",
         "type": "\"integer\""
        },
        {
         "metadata": "{}",
         "name": "week",
         "type": "\"integer\""
        },
        {
         "metadata": "{}",
         "name": "vendor_tot_trips_in_week",
         "type": "\"long\""
        }
       ],
       "type": "table"
      }
     },
     "output_type": "display_data"
    }
   ],
   "source": [
    "display(df_vendor_trips_in_top_week)"
   ]
  },
  {
   "cell_type": "markdown",
   "metadata": {
    "application/vnd.databricks.v1+cell": {
     "cellMetadata": {},
     "inputWidgets": {},
     "nuid": "fc19fffd-1b46-4bd2-b817-78c85487e299",
     "showTitle": false,
     "title": ""
    }
   },
   "source": [
    "#### Salvando os dataframes resultantes no blob com formato csv"
   ]
  },
  {
   "cell_type": "code",
   "execution_count": 0,
   "metadata": {
    "application/vnd.databricks.v1+cell": {
     "cellMetadata": {
      "byteLimit": 2048000,
      "rowLimit": 10000
     },
     "inputWidgets": {},
     "nuid": "a948a835-00c3-45a0-9751-c8fef9b0e9ee",
     "showTitle": false,
     "title": ""
    }
   },
   "outputs": [],
   "source": [
    "df_top_vendors.write.csv(f\"{PATH_BLOB}/top_vendors.csv\", header=True, mode='overwrite')\n",
    "df_top_week.write.csv(f\"{PATH_BLOB}/top_week.csv\", header=True, mode='overwrite')\n",
    "df_vendor_trips_in_top_week.write.csv(f\"{PATH_BLOB}/vendor_trips_in_top_week.csv\", header=True, mode='overwrite')"
   ]
  }
 ],
 "metadata": {
  "application/vnd.databricks.v1+notebook": {
   "dashboards": [],
   "environmentMetadata": null,
   "language": "python",
   "notebookMetadata": {
    "mostRecentlyExecutedCommandWithImplicitDF": {
     "commandId": 504040139525459,
     "dataframes": [
      "_sqldf"
     ]
    },
    "pythonIndentUnit": 4
   },
   "notebookName": "taxi_trip_data",
   "widgets": {}
  }
 },
 "nbformat": 4,
 "nbformat_minor": 0
}
